{
 "cells": [
  {
   "cell_type": "code",
   "execution_count": 70,
   "metadata": {},
   "outputs": [
    {
     "data": {
      "text/plain": [
       "10616"
      ]
     },
     "execution_count": 70,
     "metadata": {},
     "output_type": "execute_result"
    }
   ],
   "source": [
    "# Part 1\n",
    "import re\n",
    "\n",
    "with open('input9.txt', 'r') as file:\n",
    "    day9 = file.read()\n",
    "    \n",
    "def streamProcess(txt):\n",
    "    \"Returns sum of scores of bracket pairs in text, score is levels of nesting +1.\"\n",
    "    txt = re.sub(r'!.', '', txt)    # Get rid of deletions\n",
    "    txt = re.sub(r'<.*?>', '', txt) # Get rid of garbage\n",
    "    txt = txt.replace(',', '')      # Get rid of commas\n",
    "    ans = lvl = 0\n",
    "    for i in txt: \n",
    "        if i == '{':\n",
    "            lvl += 1\n",
    "            ans += lvl\n",
    "        else: lvl -= 1\n",
    "    return ans\n",
    "\n",
    "streamProcess(day9)"
   ]
  },
  {
   "cell_type": "code",
   "execution_count": 77,
   "metadata": {},
   "outputs": [
    {
     "data": {
      "text/plain": [
       "5101"
      ]
     },
     "execution_count": 77,
     "metadata": {},
     "output_type": "execute_result"
    }
   ],
   "source": [
    "# Part 2\n",
    "\n",
    "prt2 = re.sub(r'!.', '', day9)\n",
    "prt2 = re.findall(r'<.*?>', prt2)\n",
    "len(''.join(prt2)) - len(prt2)*2 # times 2 for each set of '< >'"
   ]
  }
 ],
 "metadata": {
  "kernelspec": {
   "display_name": "Python 3",
   "language": "python",
   "name": "python3"
  },
  "language_info": {
   "codemirror_mode": {
    "name": "ipython",
    "version": 3
   },
   "file_extension": ".py",
   "mimetype": "text/x-python",
   "name": "python",
   "nbconvert_exporter": "python",
   "pygments_lexer": "ipython3",
   "version": "3.7.3"
  }
 },
 "nbformat": 4,
 "nbformat_minor": 2
}
