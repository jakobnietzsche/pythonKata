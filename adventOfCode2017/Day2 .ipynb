{
 "cells": [
  {
   "cell_type": "code",
   "execution_count": 25,
   "metadata": {},
   "outputs": [
    {
     "data": {
      "text/plain": [
       "53460"
      ]
     },
     "execution_count": 25,
     "metadata": {},
     "output_type": "execute_result"
    }
   ],
   "source": [
    "from UF import Input\n",
    "\n",
    "input2 = [i.replace('\\t', ' ') for i in list(Input(2))] \n",
    "input2 = [i.replace('\\n', '').split() for i in input2] \n",
    "input2 = [list(map(int, x)) for x in input2]\n",
    "\n",
    "sum(map(lambda x: max(x) - min(x), input2)) "
   ]
  },
  {
   "cell_type": "code",
   "execution_count": 33,
   "metadata": {},
   "outputs": [
    {
     "data": {
      "text/plain": [
       "282"
      ]
     },
     "execution_count": 33,
     "metadata": {},
     "output_type": "execute_result"
    }
   ],
   "source": [
    "### part 2 \n",
    "\n",
    "def evendiv(text): \n",
    "    ans = [] \n",
    "    for i in text: \n",
    "        for x in i: \n",
    "            ans.extend([o//x for o in i if o%x==0 and o!=x])\n",
    "    return sum(ans)\n",
    "\n",
    "evendiv(input2)"
   ]
  },
  {
   "cell_type": "code",
   "execution_count": 27,
   "metadata": {},
   "outputs": [
    {
     "name": "stdout",
     "output_type": "stream",
     "text": [
      "[[1364, 461, 1438, 1456, 818, 999, 105, 1065, 314, 99, 1353, 148, 837, 590, 404, 123], [204, 99, 235, 2281, 2848, 3307, 1447, 3848, 3681, 963, 3525, 525, 288, 278, 3059, 821], [280, 311, 100, 287, 265, 383, 204, 380, 90, 377, 398, 99, 194, 297, 399, 87], [7698, 2334, 7693, 218, 7344, 3887, 3423, 7287, 7700, 2447, 7412, 6147, 231, 1066, 248, 208], [3740, 837, 4144, 123, 155, 2494, 1706, 4150, 183, 4198, 1221, 4061, 95, 148, 3460, 550], [1376, 1462, 73, 968, 95, 1721, 544, 982, 829, 1868, 1683, 618, 82, 1660, 83, 1778], [197, 2295, 5475, 2886, 2646, 186, 5925, 237, 3034, 5897, 1477, 196, 1778, 3496, 5041, 3314], [179, 2949, 3197, 2745, 1341, 3128, 1580, 184, 1026, 147, 2692, 212, 2487, 2947, 3547, 1120], [460, 73, 52, 373, 41, 133, 671, 61, 634, 62, 715, 644, 182, 524, 648, 320], [169, 207, 5529, 4820, 248, 6210, 255, 6342, 4366, 5775, 5472, 3954, 3791, 1311, 7074, 5729], [5965, 7445, 2317, 196, 1886, 3638, 266, 6068, 6179, 6333, 229, 230, 1791, 6900, 3108, 5827], [212, 249, 226, 129, 196, 245, 187, 332, 111, 126, 184, 99, 276, 93, 222, 56], [51, 592, 426, 66, 594, 406, 577, 25, 265, 578, 522, 57, 547, 65, 564, 622], [215, 2092, 1603, 1001, 940, 2054, 245, 2685, 206, 1043, 2808, 208, 194, 2339, 2028, 2580], [378, 171, 155, 1100, 184, 937, 792, 1436, 1734, 179, 1611, 1349, 647, 1778, 1723, 1709], [4463, 4757, 201, 186, 3812, 2413, 2085, 4685, 5294, 5755, 2898, 200, 5536, 5226, 1028, 180]]\n"
     ]
    }
   ],
   "source": [
    "print(input2)"
   ]
  },
  {
   "cell_type": "code",
   "execution_count": 30,
   "metadata": {},
   "outputs": [
    {
     "data": {
      "text/plain": [
       "[11]"
      ]
     },
     "execution_count": 30,
     "metadata": {},
     "output_type": "execute_result"
    }
   ],
   "source": [
    "lst = [1364, 461, 1438, 1456, 818, 999, 105, 1065, 314, 99, 1353, 148, 837, 590, 404, 123]\n",
    "\n",
    "for i in lst:\n",
    "    thing = [x//i for x in lst if x%i==0 and x!=i]\n",
    "    \n",
    "thing"
   ]
  }
 ],
 "metadata": {
  "kernelspec": {
   "display_name": "Python 3",
   "language": "python",
   "name": "python3"
  },
  "language_info": {
   "codemirror_mode": {
    "name": "ipython",
    "version": 3
   },
   "file_extension": ".py",
   "mimetype": "text/x-python",
   "name": "python",
   "nbconvert_exporter": "python",
   "pygments_lexer": "ipython3",
   "version": "3.7.3"
  }
 },
 "nbformat": 4,
 "nbformat_minor": 2
}
