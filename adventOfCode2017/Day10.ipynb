{
 "cells": [
  {
   "cell_type": "code",
   "execution_count": 5,
   "metadata": {},
   "outputs": [
    {
     "data": {
      "text/plain": [
       "6952"
      ]
     },
     "execution_count": 5,
     "metadata": {},
     "output_type": "execute_result"
    }
   ],
   "source": [
    "# Part 1\n",
    "\n",
    "with open('input10.txt', 'r') as file:\n",
    "    lengths = [int(i) for i in file.read().split(',')]\n",
    "\n",
    "lst = list(range(256))\n",
    "\n",
    "def knot(lengths, lst):\n",
    "    \"Reverse 'lst' slices for each number in 'lengths'.\"\n",
    "    pos = skip = 0\n",
    "    for i in lengths:\n",
    "        if i+pos > 255:\n",
    "            \n",
    "            t = len(lst[pos:len(lst)])\n",
    "            temp = list(reversed(lst[pos:len(lst)] + lst[0:i-t]))\n",
    "            lst[pos:len(lst)] = [temp.pop(0) for _ in range(t)]\n",
    "            lst[0:i-t] = temp\n",
    "\n",
    "        else: lst[pos:pos+i] = reversed(lst[pos:pos+i])\n",
    "        skip+=1\n",
    "        pos = (pos+skip+i)%256 - 1\n",
    "    return lst[0] * lst[1]\n",
    "\n",
    "knot(lengths, lst)"
   ]
  },
  {
   "cell_type": "code",
   "execution_count": 4,
   "metadata": {
    "scrolled": true
   },
   "outputs": [
    {
     "data": {
      "text/plain": [
       "'c500ffe015c83b60fad2e4b7d59dabc4'"
      ]
     },
     "execution_count": 4,
     "metadata": {},
     "output_type": "execute_result"
    }
   ],
   "source": [
    "# Part 2\n",
    "from functools import reduce\n",
    "\n",
    "lst2 = list(range(256))\n",
    "#lengths2 = '31,2,85,1,80,109,35,63,98,255,0,13,105,254,128,33'\n",
    "lengths2 = '63,144,180,149,1,255,167,84,125,65,188,0,2,254,229,24'\n",
    "lengths2 = tuple(map(ord, lengths2)) + (17, 31, 73, 47, 23)\n",
    "\n",
    "def knotHash2(lengths, lst):\n",
    "    \"Do a reversal for each length; repeat `rounds` times.\"\n",
    "    pos = skip = 0\n",
    "    for round in range(64):\n",
    "        for L in lengths:\n",
    "            lst = rev(lst, pos, L)\n",
    "            pos = (pos + L + skip) % 256\n",
    "            skip += 1\n",
    "    lst = [lst[i:i+16] for i in range(0, len(lst), 16)]\n",
    "    lst = [list(map(int, i)) for i in lst]\n",
    "    lst = [XOR(i) for i in lst]\n",
    "    return ''.join(list(map('{:02x}'.format, lst)))\n",
    "\n",
    "def XOR(nums):\n",
    "    \"Exclusive-or all the numbers together.\"\n",
    "    result = 0\n",
    "    for n in nums:\n",
    "        result ^= n\n",
    "    return result\n",
    "\n",
    "def rev(nums, pos, L):\n",
    "    \"Reverse nums[pos:pos+L], handling wrap-around.\"\n",
    "    # Move first pos elements to end, reverse first L, move pos elements back\n",
    "    nums = nums[pos:] + nums[:pos]\n",
    "    nums[:L] = reversed(nums[:L])\n",
    "    nums = nums[-pos:] + nums[:-pos]\n",
    "    return nums\n",
    "\n",
    "f = knotHash2(lengths2, lst2)\n",
    "f"
   ]
  },
  {
   "cell_type": "code",
   "execution_count": 167,
   "metadata": {},
   "outputs": [
    {
     "data": {
      "text/plain": [
       "'0x218'"
      ]
     },
     "execution_count": 167,
     "metadata": {},
     "output_type": "execute_result"
    }
   ],
   "source": [
    "from functools import reduce\n",
    "\n",
    "lst6 = ['5657', '5148', '55', '4956', '505255', '504852', '505253', '494854', '505148', '495753', '51', '505349', '5252', '495751', '495757', '495355']\n",
    "lst6 = [int(i) for i in lst6]\n",
    "#lst4 = [lst4[i:i+16] for i in range(0, len(lst4), 16)]\n",
    "lst5 = [65, 27, 9, 1, 4, 3, 40, 50, 91, 7, 6, 0, 2, 5, 68, 22]\n",
    "ppp = reduce(lambda x, y: x^y, lst6)\n",
    "hex(536)"
   ]
  },
  {
   "cell_type": "code",
   "execution_count": 11,
   "metadata": {},
   "outputs": [
    {
     "data": {
      "text/plain": [
       "'28e7c4360520718a5dc811d3942cf1fd'"
      ]
     },
     "execution_count": 11,
     "metadata": {},
     "output_type": "execute_result"
    }
   ],
   "source": [
    "from itertools import zip_longest\n",
    "\n",
    "cat = ''.join\n",
    "\n",
    "def mapt(fn, *args): \n",
    "    \"Do a map, and make the results into a tuple.\"\n",
    "    return tuple(map(fn, *args))\n",
    "\n",
    "def knothash(lengths, N=256, verbose=False):\n",
    "    \"Do a reversal for each of the numbers in `lengths`.\"\n",
    "    nums = list(range(N))\n",
    "    pos = skip = 0\n",
    "    for L in lengths:\n",
    "        nums = rev(nums, pos, L)\n",
    "        if verbose: print(nums)\n",
    "        pos = (pos + L + skip) % N\n",
    "        skip += 1\n",
    "    return nums[0] * nums[1]\n",
    "        \n",
    "def rev(nums, pos, L):\n",
    "    \"Reverse nums[pos:pos+L], handling wrap-around.\"\n",
    "    # Move first pos elements to end, reverse first L, move pos elements back\n",
    "    nums = nums[pos:] + nums[:pos]\n",
    "    nums[:L] = reversed(nums[:L])\n",
    "    nums = nums[-pos:] + nums[:-pos]\n",
    "    return nums\n",
    "\n",
    "def grouper(iterable, n, fillvalue=None):\n",
    "    \"\"\"Collect data into fixed-length chunks:\n",
    "    grouper('ABCDEFG', 3, 'x') --> ABC DEF Gxx\"\"\"\n",
    "    args = [iter(iterable)] * n\n",
    "    return zip_longest(*args, fillvalue=fillvalue)\n",
    "\n",
    "stream2 = '31,2,85,1,80,109,35,63,98,255,0,13,105,254,128,33'\n",
    "\n",
    "def knotHash3(lengthstr, N=256, rounds=64, suffix=(17, 31, 73, 47, 23),\n",
    "              verbose=False):\n",
    "    \"Do a reversal for each length; repeat `rounds` times.\"\n",
    "    nums = list(range(N))\n",
    "    lengths = tuple(map(ord, lengthstr)) + suffix\n",
    "    pos = skip = 0\n",
    "    for round in range(rounds):\n",
    "        for L in lengths:\n",
    "            nums = rev(nums, pos, L)\n",
    "            if verbose: print(nums)\n",
    "            pos = (pos + L + skip) % N\n",
    "            skip += 1\n",
    "    return hexstr(dense_hash(nums))\n",
    "\n",
    "def hexstr(nums): \n",
    "    \"Convert a sequence of (0 to 255) ints into a hex str.\"\n",
    "    return cat(map('{:02x}'.format, nums))\n",
    "    \n",
    "def dense_hash(nums, blocksize=16): \n",
    "    \"XOR each block of nums, return the list of them.\"\n",
    "    return [XOR(block) for block in grouper(nums, blocksize)]\n",
    "\n",
    "def XOR(nums):\n",
    "    \"Exclusive-or all the numbers together.\"\n",
    "    result = 0\n",
    "    for n in nums:\n",
    "        result ^= n\n",
    "    return result\n",
    "\n",
    "knotHash3(stream2)"
   ]
  }
 ],
 "metadata": {
  "kernelspec": {
   "display_name": "Python 3",
   "language": "python",
   "name": "python3"
  },
  "language_info": {
   "codemirror_mode": {
    "name": "ipython",
    "version": 3
   },
   "file_extension": ".py",
   "mimetype": "text/x-python",
   "name": "python",
   "nbconvert_exporter": "python",
   "pygments_lexer": "ipython3",
   "version": "3.7.3"
  }
 },
 "nbformat": 4,
 "nbformat_minor": 2
}
