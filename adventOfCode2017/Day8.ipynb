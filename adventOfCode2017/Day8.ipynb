{
 "cells": [
  {
   "cell_type": "code",
   "execution_count": 247,
   "metadata": {},
   "outputs": [
    {
     "name": "stdout",
     "output_type": "stream",
     "text": [
      "4416\n"
     ]
    },
    {
     "data": {
      "text/plain": [
       "5199"
      ]
     },
     "execution_count": 247,
     "metadata": {},
     "output_type": "execute_result"
    }
   ],
   "source": [
    "# Part 1 & 2\n",
    "\n",
    "with open('input8.txt', 'r') as file:\n",
    "    day8 = file.read().split('\\n')\n",
    "\n",
    "def registers(lines, part2=False):\n",
    "    \"\"\"Splits the input into register name, action, and conditional.\n",
    "       Returns the largest register value.\"\"\"\n",
    "    maxReg         = 0\n",
    "    varLst         = []\n",
    "    registerValues = []\n",
    "    for line in lines:\n",
    "        regis, condits = line.split(' if ')\n",
    "        r,a = regis.split(' ',1)\n",
    "        varLst.append((r,a,condits))\n",
    "        exec('{}=0'.format(r))\n",
    "        \n",
    "    for regName, act, cond in varLst:\n",
    "         if eval(cond):\n",
    "            exec(\"{}+={} * (+1 if 'inc' in act else -1)\".format(regName,int(act.split(' ')[1])))\n",
    "            if eval(regName) > maxReg: maxReg=eval(regName)\n",
    "            registerValues.append(regName)\n",
    "\n",
    "    return maxReg if part2 else max(map(eval, registerValues))\n",
    "        \n",
    "print(registers(day8))      # Part 1\n",
    "registers(day8, part2=True) # Part 2"
   ]
  }
 ],
 "metadata": {
  "kernelspec": {
   "display_name": "Python 3",
   "language": "python",
   "name": "python3"
  },
  "language_info": {
   "codemirror_mode": {
    "name": "ipython",
    "version": 3
   },
   "file_extension": ".py",
   "mimetype": "text/x-python",
   "name": "python",
   "nbconvert_exporter": "python",
   "pygments_lexer": "ipython3",
   "version": "3.7.3"
  }
 },
 "nbformat": 4,
 "nbformat_minor": 2
}
