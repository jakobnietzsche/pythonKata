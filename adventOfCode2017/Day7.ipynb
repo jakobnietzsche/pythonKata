{
 "cells": [
  {
   "cell_type": "code",
   "execution_count": 47,
   "metadata": {},
   "outputs": [
    {
     "data": {
      "text/plain": [
       "'eugwuhl'"
      ]
     },
     "execution_count": 47,
     "metadata": {},
     "output_type": "execute_result"
    }
   ],
   "source": [
    "# Part 1\n",
    "\n",
    "with open('input7.txt', 'r') as file:\n",
    "    day7 = file.read().split('\\n')\n",
    "    \n",
    "r = list(filter(lambda x: '->' in x, day7))\n",
    "\n",
    "def rootFinder(programs):\n",
    "    \"\"\"Given a large recursive set of 'programs', find the root \n",
    "       (the program at the very bottom).\"\"\"\n",
    "    parents, children = [i.split(' ')[0] for i in programs], [i.split('-> ')[1] for i in programs]\n",
    "    for i in parents:\n",
    "        isChild = 0\n",
    "        for j in children:\n",
    "            if i in j: isChild = 1\n",
    "        if not isChild:return i\n",
    "    \n",
    "rootFinder(r)"
   ]
  },
  {
   "cell_type": "code",
   "execution_count": 217,
   "metadata": {
    "scrolled": true
   },
   "outputs": [
    {
     "data": {
      "text/plain": [
       "420"
      ]
     },
     "execution_count": 217,
     "metadata": {},
     "output_type": "execute_result"
    }
   ],
   "source": [
    "# Part 2\n",
    "import re\n",
    "\n",
    "with open('input7.txt', 'r') as file:\n",
    "    day7 = file.read().split('\\n')\n",
    "\n",
    "def weightsChildren(programs):\n",
    "    \"\"\"Seperates the programs into dictionaries of weights and children.\"\"\"\n",
    "    weights = {}\n",
    "    children = {}\n",
    "    for i in programs:\n",
    "        parent, weight, *child = re.findall(r'\\w+', i)\n",
    "        weights[parent]        = int(weight)\n",
    "        children[parent]       = child\n",
    "    return weights, children\n",
    "\n",
    "def recurseProgram(program): return sum(w[i] for i in c[program]) + sum(map(recurseProgram, c[program]))\n",
    "\n",
    "def findWrongWeight(w, c):\n",
    "    \"\"\"Finds the one program with the wrong weight;\n",
    "       returns the weight it should be.\"\"\"\n",
    "    wrong = []\n",
    "    for key, val in c.items():\n",
    "        sums  = []\n",
    "        for i in val: \n",
    "            sums.append(w[i] + recurseProgram(i))\n",
    "        if len(set(sums)) > 1: wrong.append([key, sums])\n",
    "            \n",
    "    defect    = min(wrong, key=lambda x: x[1])   # program who has a child program with the wrong weight\n",
    "    wrongIndx = defect[1].index(max(defect[1]))  # index of the child program that's wrong\n",
    "    \n",
    "    return w[c[defect[0]][wrongIndx]] - (max(defect[1]) - min(defect[1]))\n",
    "\n",
    "findWrongWeight(*weightsChildren(day7))"
   ]
  }
 ],
 "metadata": {
  "kernelspec": {
   "display_name": "Python 3",
   "language": "python",
   "name": "python3"
  },
  "language_info": {
   "codemirror_mode": {
    "name": "ipython",
    "version": 3
   },
   "file_extension": ".py",
   "mimetype": "text/x-python",
   "name": "python",
   "nbconvert_exporter": "python",
   "pygments_lexer": "ipython3",
   "version": "3.7.3"
  }
 },
 "nbformat": 4,
 "nbformat_minor": 2
}
