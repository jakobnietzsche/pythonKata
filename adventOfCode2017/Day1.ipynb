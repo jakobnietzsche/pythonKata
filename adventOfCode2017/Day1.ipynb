{
 "cells": [
  {
   "cell_type": "code",
   "execution_count": 4,
   "metadata": {},
   "outputs": [],
   "source": [
    "import re\n",
    "import os\n",
    "import urllib.request\n",
    "\n",
    "def Input(day, year=2017): \n",
    "    \"Open this day's input file.\" \n",
    "    #directory = 'AdventofCode2017{}/'.format(year) \n",
    "    filename = 'input{}.txt'.format(day) \n",
    "    try: \n",
    "        return open(filename) \n",
    "    except FileNotFoundError: \n",
    "        if not os.path.exists(directory): \n",
    "            os.makedirs(directory) \n",
    "            \n",
    "        urllib.request.urlretrieve(\"https://raw.githubusercontent.com/norvig/pytudes/master/data/\" + filename, filename) \n",
    "        return Input(day)\n",
    "    \n",
    "    \n",
    "def mapt(fn, *args): \n",
    "    return tuple(map(fn, *args))\n",
    "\n",
    "def Integers(text): \n",
    "    return mapt(int, re.findall(r'-?\\b\\d+\\b', text))"
   ]
  },
  {
   "cell_type": "code",
   "execution_count": 42,
   "metadata": {},
   "outputs": [
    {
     "data": {
      "text/plain": [
       "1203"
      ]
     },
     "execution_count": 42,
     "metadata": {},
     "output_type": "execute_result"
    }
   ],
   "source": [
    "input1 = list(Input(1))[0]\n",
    "\n",
    "something = []\n",
    "for indx, i in enumerate(input1): \n",
    "    try:\n",
    "        if i == input1[indx+1]:\n",
    "            something.append(i)\n",
    "    except IndexError: something.append(i if input1[0] == i else 0)\n",
    "        \n",
    "sum(map(int, something))"
   ]
  },
  {
   "cell_type": "code",
   "execution_count": 48,
   "metadata": {},
   "outputs": [
    {
     "data": {
      "text/plain": [
       "1146"
      ]
     },
     "execution_count": 48,
     "metadata": {},
     "output_type": "execute_result"
    }
   ],
   "source": [
    "### Part 2\n",
    "ans = [] \n",
    "for indx, i in enumerate(input1): \n",
    "    ans.append(i if input1[int(indx-(len(input1)/2))] == i else 0) \n",
    "sum(map(int, ans))"
   ]
  }
 ],
 "metadata": {
  "kernelspec": {
   "display_name": "Python 3",
   "language": "python",
   "name": "python3"
  },
  "language_info": {
   "codemirror_mode": {
    "name": "ipython",
    "version": 3
   },
   "file_extension": ".py",
   "mimetype": "text/x-python",
   "name": "python",
   "nbconvert_exporter": "python",
   "pygments_lexer": "ipython3",
   "version": "3.7.3"
  }
 },
 "nbformat": 4,
 "nbformat_minor": 2
}
