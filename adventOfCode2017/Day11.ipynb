{
 "cells": [
  {
   "cell_type": "code",
   "execution_count": 13,
   "metadata": {},
   "outputs": [
    {
     "name": "stdout",
     "output_type": "stream",
     "text": [
      "834 834\n"
     ]
    }
   ],
   "source": [
    "# Part 1\n",
    "\n",
    "with open('input11.txt', 'r') as file:\n",
    "    day11 = file.read().split(',')\n",
    "\n",
    "# These directions are odd, since the grid is formed with hexagons. \n",
    "direcs = dict(n=(0, -1), ne=(1, 0), se=(1, 1), s=(0, 1), sw=(-1, 0), nw=(-1, -1))\n",
    "\n",
    "def hexGrid(path):\n",
    "    return abs(sum(direcs[i][0] for i in path)) + abs(sum(direcs[j][1] for j in path))\n",
    "\n",
    "# easier to read version\n",
    "def hexGridx(path):\n",
    "    \"Returns the Manhattan distance of a hexagonal grid when following a path.\"\n",
    "    x = y = 0\n",
    "    for i in path:\n",
    "        x += direcs[i][0]\n",
    "        y += direcs[i][1]\n",
    "    return abs(x) + abs(y)\n",
    "\n",
    "one = hexGrid(day11)\n",
    "two = hexGridx(day11)\n",
    "\n",
    "print(one, two)"
   ]
  },
  {
   "cell_type": "code",
   "execution_count": 19,
   "metadata": {},
   "outputs": [
    {
     "data": {
      "text/plain": [
       "1569"
      ]
     },
     "execution_count": 19,
     "metadata": {},
     "output_type": "execute_result"
    }
   ],
   "source": [
    "# Part 2\n",
    "\n",
    "def hexGrid2(path):\n",
    "    \"Returns farthest point reached during path.\"\n",
    "    maxD = 0\n",
    "    x = y = 0\n",
    "    for i in path:\n",
    "        x += direcs[i][0]\n",
    "        y += direcs[i][1]\n",
    "        z = abs(x) + abs(y)\n",
    "        maxD = z if z > maxD else maxD\n",
    "    return maxD\n",
    "\n",
    "hexGrid2(day11)"
   ]
  }
 ],
 "metadata": {
  "kernelspec": {
   "display_name": "Python 3",
   "language": "python",
   "name": "python3"
  },
  "language_info": {
   "codemirror_mode": {
    "name": "ipython",
    "version": 3
   },
   "file_extension": ".py",
   "mimetype": "text/x-python",
   "name": "python",
   "nbconvert_exporter": "python",
   "pygments_lexer": "ipython3",
   "version": "3.7.3"
  }
 },
 "nbformat": 4,
 "nbformat_minor": 2
}
