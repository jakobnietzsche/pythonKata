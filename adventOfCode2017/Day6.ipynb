{
 "cells": [
  {
   "cell_type": "code",
   "execution_count": 37,
   "metadata": {},
   "outputs": [
    {
     "data": {
      "text/plain": [
       "3156"
      ]
     },
     "execution_count": 37,
     "metadata": {},
     "output_type": "execute_result"
    }
   ],
   "source": [
    "# Part 1\n",
    "from numpy import argmax\n",
    "\n",
    "b = [2, 8, 8, 5, 4, 2, 3, 1, 5, 5, 1, 2, 15, 13, 5, 14]\n",
    "\n",
    "def memoryBanker(banks,part2=False):\n",
    "    \"\"\"Takes an array of numbers and distributes the maximum number\n",
    "       over all other numbers, once finished, the array becomes seen.\n",
    "       Return the number of iterations until a seen array is seen again.\"\"\"\n",
    "    seen = []\n",
    "    ans  = 0\n",
    "    while str(banks) not in seen:\n",
    "        seen.append(str(banks))\n",
    "        maxIndx = sMaxIndx = argmax(banks)\n",
    "        for i in range(banks[sMaxIndx]):\n",
    "            maxIndx+=1\n",
    "            if maxIndx > 15: maxIndx = 0\n",
    "            banks[maxIndx] += 1; banks[sMaxIndx] -=1\n",
    "        ans +=1\n",
    "    return ans - seen.index(str(banks)) if part2 else ans\n",
    "\n",
    "memoryBanker(b)"
   ]
  },
  {
   "cell_type": "code",
   "execution_count": 38,
   "metadata": {},
   "outputs": [
    {
     "data": {
      "text/plain": [
       "1610"
      ]
     },
     "execution_count": 38,
     "metadata": {},
     "output_type": "execute_result"
    }
   ],
   "source": [
    "# Part 2\n",
    "memoryBanker(b,part2=True)"
   ]
  }
 ],
 "metadata": {
  "kernelspec": {
   "display_name": "Python 3",
   "language": "python",
   "name": "python3"
  },
  "language_info": {
   "codemirror_mode": {
    "name": "ipython",
    "version": 3
   },
   "file_extension": ".py",
   "mimetype": "text/x-python",
   "name": "python",
   "nbconvert_exporter": "python",
   "pygments_lexer": "ipython3",
   "version": "3.7.3"
  }
 },
 "nbformat": 4,
 "nbformat_minor": 2
}
