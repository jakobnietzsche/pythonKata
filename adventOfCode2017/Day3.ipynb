{
 "cells": [
  {
   "cell_type": "code",
   "execution_count": 46,
   "metadata": {},
   "outputs": [
    {
     "data": {
      "text/plain": [
       "[[9, 7, 5, 3, [1]], [25, 21, 17, 13, [2]], [49, 43, 37, 31, [3]]]"
      ]
     },
     "execution_count": 46,
     "metadata": {},
     "output_type": "execute_result"
    }
   ],
   "source": [
    "def spiral(size, layers=False): \n",
    "    \"Make an Ulam Spiral, counter indicates the size of the spiral.\"\n",
    "    \"Returns a list of corners from each iteration.\"\n",
    "    corners    = []\n",
    "    growth, corner_sub, counter = 3, 2, 1\n",
    "    \n",
    "    while True: \n",
    "        cornerVar = growth**2\n",
    "        corners.append([cornerVar]) \n",
    "        \n",
    "        for i in range(3): \n",
    "            corners[-1].append(cornerVar-corner_sub)\n",
    "            cornerVar -= corner_sub\n",
    "        corners[-1].append([counter])\n",
    "        counter += 1\n",
    "        growth += 2\n",
    "        corner_sub += 2\n",
    "        if size in range(min(corners[-1][:-1])-(growth-1), max(corners[-1][:-1])+1): return counter if layers else corners\n",
    "    return counter if layers else corners\n",
    "\n",
    "spiral(49)"
   ]
  },
  {
   "cell_type": "code",
   "execution_count": 49,
   "metadata": {},
   "outputs": [
    {
     "data": {
      "text/plain": [
       "296"
      ]
     },
     "execution_count": 49,
     "metadata": {},
     "output_type": "execute_result"
    }
   ],
   "source": [
    "spiral(347991, layers=True)"
   ]
  },
  {
   "cell_type": "code",
   "execution_count": 29,
   "metadata": {},
   "outputs": [
    {
     "data": {
      "text/plain": [
       "480"
      ]
     },
     "execution_count": 29,
     "metadata": {},
     "output_type": "execute_result"
    }
   ],
   "source": [
    "def find_step_pos(corner1, corner2, square, counter):\n",
    "    \"Use the two corners that our desired square falls between in order\"\n",
    "    \"to calculate the steps needed to reach the center of the Ulam Spiral.\"\n",
    "    \n",
    "    closerPoint = min((corner1, corner2), key=lambda x: abs(x-square))\n",
    "    return counter+counter - abs(closerPoint-square)\n",
    "\n",
    "def distance_calculator(square):\n",
    "    \"Takes our desired square and finds the four corners that it is apart of.\"\n",
    "    spirl = spiral(square)\n",
    "    squarePatch = spirl[-1]\n",
    "    \n",
    "    if square in squarePatch: return squarePatch[-1][0]*2\n",
    "    for i in squarePatch[:-1]: \n",
    "        for x in squarePatch[:-1]: \n",
    "            if square in range(i, x): \n",
    "                squareRange = (i, x)\n",
    "\n",
    "    return find_step_pos(*squareRange, square, squarePatch[-1][0])\n",
    "    \n",
    "answer = distance_calculator(347991)\n",
    "answer"
   ]
  },
  {
   "cell_type": "code",
   "execution_count": 200,
   "metadata": {},
   "outputs": [
    {
     "data": {
      "text/plain": [
       "[[628459, 363010, 349975, 330785, 312453, 295229, 279138, 266330, 130654],\n",
       " [1393767, 6591, 6444, 6155, 5733, 5336, 5022, 2450, 128204],\n",
       " [1795925, 13486, 147, 142, 133, 122, 59, 2391, 123363],\n",
       " [2188016, 14267, 304, 5, 4, 2, 57, 2275, 116247],\n",
       " [2562681, 15252, 330, 10, 1, 1, 54, 2105, 109476],\n",
       " [2921938, 16295, 351, 11, 23, 25, 26, 1968, 103128],\n",
       " [3221902, 17008, 362, 747, 806, 880, 931, 957, 98098],\n",
       " [3402443, 17370, 35487, 37402, 39835, 42452, 45220, 47108, 48065],\n",
       " [3467878, 0, 0, 0, 0, 0, 0, 0, 0]]"
      ]
     },
     "execution_count": 200,
     "metadata": {},
     "output_type": "execute_result"
    }
   ],
   "source": [
    "# Day 2\n",
    "from itertools import product as p\n",
    "            \n",
    "def ulamSum(target):\n",
    "    s = [[0]*9 for _ in range(9)]\n",
    "    neighbors = lambda x,y: list(p(range(x-1,x+2), range(y-1,y+2)))\n",
    "    tot = 0\n",
    "    side = 3\n",
    "    s[4][4] = 1\n",
    "    dx,dy = (4,4)\n",
    "    \n",
    "    while s[dx][dy] < 17400:\n",
    "        \n",
    "        for i in range(1,side-1):\n",
    "            dy+=1 \n",
    "            for x,y in neighbors(*(dx,dy)):\n",
    "                try: tot += s[x][y]\n",
    "                except IndexError: pass\n",
    "            s[dx][dy] = tot\n",
    "            tot = 0\n",
    "            \n",
    "        for i in range(1,side-1):\n",
    "            dx-=1\n",
    "            for x,y in neighbors(*(dx,dy)):\n",
    "                try: tot += s[x][y]\n",
    "                except IndexError: pass\n",
    "            s[dx][dy] = tot\n",
    "            tot = 0\n",
    "\n",
    "        for i in range(1,side):\n",
    "            dy-=1\n",
    "            for x,y in neighbors(*(dx,dy)):\n",
    "                try: tot += s[x][y]\n",
    "                except IndexError: pass\n",
    "            s[dx][dy] = tot\n",
    "            tot = 0\n",
    "        \n",
    "        for i in range(1,side):\n",
    "            dx+=1\n",
    "            for x,y in neighbors(*(dx,dy)):\n",
    "                try: tot += s[x][y]\n",
    "                except IndexError: pass\n",
    "            s[dx][dy] = tot\n",
    "            tot = 0\n",
    "        side += 2\n",
    "    return s\n",
    "        \n",
    "ulamSum(4)"
   ]
  }
 ],
 "metadata": {
  "kernelspec": {
   "display_name": "Python 3",
   "language": "python",
   "name": "python3"
  },
  "language_info": {
   "codemirror_mode": {
    "name": "ipython",
    "version": 3
   },
   "file_extension": ".py",
   "mimetype": "text/x-python",
   "name": "python",
   "nbconvert_exporter": "python",
   "pygments_lexer": "ipython3",
   "version": "3.7.3"
  }
 },
 "nbformat": 4,
 "nbformat_minor": 2
}
