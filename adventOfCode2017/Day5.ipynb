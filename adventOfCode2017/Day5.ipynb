{
 "cells": [
  {
   "cell_type": "code",
   "execution_count": 28,
   "metadata": {},
   "outputs": [
    {
     "data": {
      "text/plain": [
       "394829"
      ]
     },
     "execution_count": 28,
     "metadata": {},
     "output_type": "execute_result"
    }
   ],
   "source": [
    "# Part 1\n",
    "with open('input5.txt', 'r') as file:\n",
    "    offsets = [int(i) for i in file.read().split('\\n')]\n",
    "\n",
    "def offsets1(o):\n",
    "    tot = indx = 0\n",
    "    while 0 <= indx < len(o):\n",
    "        prev=indx\n",
    "        indx+=o[indx]\n",
    "        o[prev]+=1\n",
    "        tot+=1\n",
    "    return tot\n",
    "offsets1(offsets)"
   ]
  },
  {
   "cell_type": "code",
   "execution_count": 31,
   "metadata": {},
   "outputs": [
    {
     "data": {
      "text/plain": [
       "31150702"
      ]
     },
     "execution_count": 31,
     "metadata": {},
     "output_type": "execute_result"
    }
   ],
   "source": [
    "# Part 2\n",
    "with open('input5.txt', 'r') as file:\n",
    "    offsets = [int(i) for i in file.read().split('\\n')]\n",
    "    \n",
    "def offsets2(o):\n",
    "    tot = indx = 0\n",
    "    while 0 <= indx < len(o):\n",
    "        prev=indx\n",
    "        indx+=o[indx]\n",
    "        o[prev] += 1 if o[prev] < 3 else -1\n",
    "        tot+=1\n",
    "    return tot\n",
    "offsets2(offsets)"
   ]
  }
 ],
 "metadata": {
  "kernelspec": {
   "display_name": "Python 3",
   "language": "python",
   "name": "python3"
  },
  "language_info": {
   "codemirror_mode": {
    "name": "ipython",
    "version": 3
   },
   "file_extension": ".py",
   "mimetype": "text/x-python",
   "name": "python",
   "nbconvert_exporter": "python",
   "pygments_lexer": "ipython3",
   "version": "3.7.3"
  }
 },
 "nbformat": 4,
 "nbformat_minor": 2
}
