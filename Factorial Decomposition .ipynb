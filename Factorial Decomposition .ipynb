{
 "cells": [
  {
   "cell_type": "code",
   "execution_count": 167,
   "metadata": {},
   "outputs": [
    {
     "name": "stdout",
     "output_type": "stream",
     "text": [
      "7.755605021665493e+24 >>> 7755605021665493027651584 2\n",
      "7222970036478241.0 2\n",
      "2407656678826080.5 >>> 2407656678826080 3\n",
      "7222970036478241.0 3\n",
      "1444594007295648.2 >>> 1444594007295648 5\n",
      "7222970036478241.0 5\n",
      "1031852862354034.4 >>> 1031852862354034 7\n",
      "7222970036478241.0 7\n",
      "656633639679840.1 >>> 656633639679840 11\n",
      "7222970036478241.0 11\n",
      "555613079729095.44 >>> 555613079729095 13\n",
      "7222970036478241.0 13\n",
      "424880590381073.0 >>> 424880590381073 17\n",
      "24992975904769.0 17\n",
      "1315419784461.5264 >>> 1315419784461 19\n",
      "24992975904769.0 19\n",
      "1086651126294.3043 >>> 1086651126294 23\n",
      "24992975904769.0 23\n"
     ]
    },
    {
     "data": {
      "text/plain": [
       "'2^31 * 3^0 * 5^0 * 7^0 * 11^0 * 13^0 * 17^2 * 19^0 * 23^0'"
      ]
     },
     "execution_count": 167,
     "metadata": {},
     "output_type": "execute_result"
    }
   ],
   "source": [
    "from math import factorial \n",
    "\n",
    "def decomp(n):  \n",
    "    ans = []\n",
    "    dividend = factorial(n)\n",
    "    primes = list(filter(lambda x: sum(map(lambda i: x%i == 0, range(2, x))) == 0, range(2, n+1)))\n",
    "    for i in primes: \n",
    "        count = 0\n",
    "        print(dividend/i, '>>>', int(dividend/i), i)\n",
    "        while dividend/i == int(dividend/i):\n",
    "            dividend = dividend / i\n",
    "            count += 1\n",
    "        print(dividend, i)\n",
    "        if count != 1: ans.append(count)\n",
    "        else: ans.append(None)\n",
    "    return ' * '.join('{}^{}'.format(i,y) for i,y in list(zip(primes, ans))).replace('^None', '')\n",
    "    \n",
    "decomp(25)"
   ]
  },
  {
   "cell_type": "code",
   "execution_count": 74,
   "metadata": {},
   "outputs": [
    {
     "data": {
      "text/plain": [
       "2"
      ]
     },
     "execution_count": 74,
     "metadata": {},
     "output_type": "execute_result"
    }
   ],
   "source": [
    "def strong_divide(dividend, divisor): \n",
    "    count = 0\n",
    "    while dividend == int(dividend): \n",
    "        dividend = dividend / divisor \n",
    "        count += 1\n",
    "    return count - 1\n",
    "\n",
    "strong_divide(factorial(12), 5)    "
   ]
  },
  {
   "cell_type": "code",
   "execution_count": 172,
   "metadata": {},
   "outputs": [
    {
     "data": {
      "text/plain": [
       "'2^31 * 3^0 * 5^0 * 7^0 * 11^0 * 13^0 * 17^2 * 19^0 * 23^0'"
      ]
     },
     "execution_count": 172,
     "metadata": {},
     "output_type": "execute_result"
    }
   ],
   "source": [
    "def decomp(n):  \n",
    "    ans = []\n",
    "    dividend = factorial(n)\n",
    "    primes = list(filter(lambda x: sum(map(lambda i: x%i == 0, range(2, x))) == 0, range(2, n+1)))\n",
    "    for i in primes: \n",
    "        count = 0\n",
    "        while dividend/i == int(dividend/i):\n",
    "            dividend = dividend / i\n",
    "            count += 1\n",
    "        if count != 1: ans.append(count)\n",
    "        else: ans.append(None)\n",
    "    return ' * '.join('{}^{}'.format(i,y) for i,y in list(zip(primes, ans))).replace('^None', '')\n",
    "    \n",
    "decomp(25)\n"
   ]
  },
  {
   "cell_type": "code",
   "execution_count": 181,
   "metadata": {},
   "outputs": [
    {
     "name": "stdout",
     "output_type": "stream",
     "text": [
      "177843714048000.0 1\n",
      "88921857024000.0 2\n",
      "44460928512000.0 3\n",
      "22230464256000.0 4\n",
      "11115232128000.0 5\n",
      "5557616064000.0 6\n",
      "2778808032000.0 7\n",
      "1389404016000.0 8\n",
      "694702008000.0 9\n",
      "347351004000.0 10\n",
      "173675502000.0 11\n",
      "86837751000.0 12\n",
      "43418875500.0 13\n",
      "21709437750.0 14\n",
      "10854718875.0 15\n",
      "5427359437.5 16\n"
     ]
    }
   ],
   "source": [
    "blah = factorial(17)\n",
    "countt = 1\n",
    "for i in range(0, 16):\n",
    "    blah = blah/2 \n",
    "    print(blah, countt)\n",
    "    countt += 1"
   ]
  },
  {
   "cell_type": "code",
   "execution_count": 189,
   "metadata": {},
   "outputs": [
    {
     "data": {
      "text/plain": [
       "1814731776000.0"
      ]
     },
     "execution_count": 189,
     "metadata": {},
     "output_type": "execute_result"
    }
   ],
   "source": [
    "10854718875.0\n",
    "blah2 = factorial(17)\n",
    "ff = blah2 / 14\n",
    "ff/14"
   ]
  }
 ],
 "metadata": {
  "kernelspec": {
   "display_name": "Python 3",
   "language": "python",
   "name": "python3"
  },
  "language_info": {
   "codemirror_mode": {
    "name": "ipython",
    "version": 3
   },
   "file_extension": ".py",
   "mimetype": "text/x-python",
   "name": "python",
   "nbconvert_exporter": "python",
   "pygments_lexer": "ipython3",
   "version": "3.7.3"
  }
 },
 "nbformat": 4,
 "nbformat_minor": 2
}
